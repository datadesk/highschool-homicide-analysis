{
 "cells": [
  {
   "cell_type": "markdown",
   "metadata": {},
   "source": [
    "# High school homicides analysis\n",
    "\n",
    "By Iris Lee\n",
    "\n",
    "While homicide rate in Los Angeles County has been in decline for years, they still remain common and widespread. The Los Angeles Times conducted an anlaysis of homicides near public high schools and found that a small number of high schools are surrounded by extremely high rates of homicide. [What it's like to go to school when dozens have been killed nearby](www.latimes.com/projects/la-me-edu-school-safety-deaths-nearby/) is story of how students of these schools navigate the world around them with help of educators, family and the community.\n",
    "\n",
    "Of the 262 schools included in the analysis, there are 15 schools which has been near more than 50 homicides in the last five years. "
   ]
  },
  {
   "cell_type": "markdown",
   "metadata": {},
   "source": [
    "### Configuration\n",
    "\n",
    "Set environment variables for all notebooks."
   ]
  },
  {
   "cell_type": "code",
   "execution_count": 1,
   "metadata": {},
   "outputs": [],
   "source": [
    "import os, warnings\n",
    "import pandas as pd\n",
    "import altair as alt\n",
    "import geopandas as gpd"
   ]
  },
  {
   "cell_type": "code",
   "execution_count": 2,
   "metadata": {},
   "outputs": [],
   "source": [
    "warnings.filterwarnings('ignore')\n",
    "# alt.renderers.enable('notebook')\n",
    "pd.set_option('display.max_columns', 500)"
   ]
  },
  {
   "cell_type": "code",
   "execution_count": 3,
   "metadata": {},
   "outputs": [],
   "source": [
    "base_dir = os.getcwd()"
   ]
  },
  {
   "cell_type": "code",
   "execution_count": 4,
   "metadata": {},
   "outputs": [],
   "source": [
    "input_dir = os.path.join(base_dir, 'input')\n",
    "output_dir = os.path.join(base_dir, 'output')"
   ]
  },
  {
   "cell_type": "code",
   "execution_count": 5,
   "metadata": {},
   "outputs": [],
   "source": [
    "%%capture\n",
    "os.path.exists(input_dir) or os.mkdir(input_dir)\n",
    "os.path.exists(output_dir) or os.mkdir(output_dir)"
   ]
  },
  {
   "cell_type": "code",
   "execution_count": 6,
   "metadata": {},
   "outputs": [],
   "source": [
    "%%capture\n",
    "%store input_dir\n",
    "%store output_dir"
   ]
  },
  {
   "cell_type": "markdown",
   "metadata": {},
   "source": [
    "## Data collection"
   ]
  },
  {
   "cell_type": "markdown",
   "metadata": {},
   "source": [
    "### Download LA high schools"
   ]
  },
  {
   "cell_type": "markdown",
   "metadata": {},
   "source": [
    "The [California Departmen of Education](cde.ca.gov) provides list of schools every year"
   ]
  },
  {
   "cell_type": "code",
   "execution_count": 7,
   "metadata": {},
   "outputs": [],
   "source": [
    "# %run src/download-la-highschools.ipynb"
   ]
  },
  {
   "cell_type": "markdown",
   "metadata": {},
   "source": [
    "### Clean LA high schools"
   ]
  },
  {
   "cell_type": "markdown",
   "metadata": {},
   "source": [
    "Schools that moved locations in the last five years were excluded from the analysis. Excluded schools were indentified by comparing historic school location data from [National Center for Education Statistics](nces.ed.gov) to the most current list provided by CDE. "
   ]
  },
  {
   "cell_type": "code",
   "execution_count": 8,
   "metadata": {},
   "outputs": [],
   "source": [
    "# %run src/clean-la-highschools.ipynb"
   ]
  },
  {
   "cell_type": "code",
   "execution_count": 9,
   "metadata": {},
   "outputs": [],
   "source": [
    "# %run src/download-nces-schools.ipynb"
   ]
  },
  {
   "cell_type": "code",
   "execution_count": 10,
   "metadata": {},
   "outputs": [],
   "source": [
    "# %run src/clean-nces-schools.ipynb"
   ]
  },
  {
   "cell_type": "code",
   "execution_count": 11,
   "metadata": {},
   "outputs": [],
   "source": [
    "# %run src/find-changing-addresses.ipynb"
   ]
  },
  {
   "cell_type": "code",
   "execution_count": 12,
   "metadata": {},
   "outputs": [],
   "source": [
    "# %run src/remove-changing-addresses.ipynb"
   ]
  },
  {
   "cell_type": "code",
   "execution_count": 13,
   "metadata": {},
   "outputs": [],
   "source": [
    "# %run src/finalize-la-highschools.ipynb"
   ]
  },
  {
   "cell_type": "markdown",
   "metadata": {},
   "source": [
    "### Download Homicides"
   ]
  },
  {
   "cell_type": "markdown",
   "metadata": {},
   "source": [
    "Retrieves homicide list from The Times' unpublished API. This step has been withheld from the notebook to maintain our site's security."
   ]
  },
  {
   "cell_type": "code",
   "execution_count": 14,
   "metadata": {},
   "outputs": [],
   "source": [
    "# %run src/download-homicides.ipynb"
   ]
  },
  {
   "cell_type": "markdown",
   "metadata": {},
   "source": [
    "### Clean homicides"
   ]
  },
  {
   "cell_type": "markdown",
   "metadata": {},
   "source": [
    "Creates a simplified homicides file that includes only the records needed for the analysis. "
   ]
  },
  {
   "cell_type": "code",
   "execution_count": 15,
   "metadata": {},
   "outputs": [],
   "source": [
    "# %run src/transform-homicides.ipynb"
   ]
  },
  {
   "cell_type": "markdown",
   "metadata": {},
   "source": [
    "### Spatial join\n",
    "\n",
    "Identify homicides that occured inside school buffers through spatial join."
   ]
  },
  {
   "cell_type": "markdown",
   "metadata": {},
   "source": [
    "Read in GeoDataFrames"
   ]
  },
  {
   "cell_type": "code",
   "execution_count": 16,
   "metadata": {
    "scrolled": true
   },
   "outputs": [],
   "source": [
    "homicides = gpd.read_file(os.path.join(output_dir, 'homicides-five-years.shp'))"
   ]
  },
  {
   "cell_type": "code",
   "execution_count": 17,
   "metadata": {},
   "outputs": [],
   "source": [
    "schools = gpd.read_file(os.path.join(output_dir, 'school-buffers.shp'))"
   ]
  },
  {
   "cell_type": "markdown",
   "metadata": {},
   "source": [
    "Find all homicides that happened within one mile of a qualified LA County high school."
   ]
  },
  {
   "cell_type": "code",
   "execution_count": 18,
   "metadata": {},
   "outputs": [],
   "source": [
    "homicides_near_hs = gpd.sjoin(homicides, schools, op='within')"
   ]
  },
  {
   "cell_type": "markdown",
   "metadata": {},
   "source": [
    "Remove homicides that occured before the nearby school was open"
   ]
  },
  {
   "cell_type": "markdown",
   "metadata": {},
   "source": [
    "First, convert school open date column and person death date colum to datetime type"
   ]
  },
  {
   "cell_type": "code",
   "execution_count": 19,
   "metadata": {},
   "outputs": [],
   "source": [
    "homicides_near_hs[['open_date', 'death_date']] = homicides_near_hs[['open_date', 'death_date']].apply(pd.to_datetime)"
   ]
  },
  {
   "cell_type": "code",
   "execution_count": 20,
   "metadata": {},
   "outputs": [],
   "source": [
    "valid_homicides_near_hs = homicides_near_hs[homicides_near_hs.death_date >= homicides_near_hs.open_date]"
   ]
  },
  {
   "cell_type": "markdown",
   "metadata": {},
   "source": [
    "There may be duplicate homicides if they are linked to more than one school"
   ]
  },
  {
   "cell_type": "code",
   "execution_count": 21,
   "metadata": {},
   "outputs": [
    {
     "data": {
      "text/plain": [
       "4055"
      ]
     },
     "execution_count": 21,
     "metadata": {},
     "output_type": "execute_result"
    }
   ],
   "source": [
    "len(valid_homicides_near_hs)"
   ]
  },
  {
   "cell_type": "code",
   "execution_count": 22,
   "metadata": {},
   "outputs": [
    {
     "data": {
      "text/plain": [
       "2215"
      ]
     },
     "execution_count": 22,
     "metadata": {},
     "output_type": "execute_result"
    }
   ],
   "source": [
    "valid_homicides_near_hs.ID.nunique()"
   ]
  },
  {
   "cell_type": "markdown",
   "metadata": {},
   "source": [
    "### Analysis"
   ]
  },
  {
   "cell_type": "markdown",
   "metadata": {},
   "source": [
    "Create a new dataframe that groups the schools with number of homicides nearby "
   ]
  },
  {
   "cell_type": "code",
   "execution_count": 23,
   "metadata": {},
   "outputs": [],
   "source": [
    "homicides_by_school = valid_homicides_near_hs.groupby([\n",
    "    'cds_code', \n",
    "    'name'\n",
    "]).size().rename('homicide_count').reset_index()"
   ]
  },
  {
   "cell_type": "code",
   "execution_count": 24,
   "metadata": {},
   "outputs": [
    {
     "data": {
      "text/html": [
       "<div>\n",
       "<style scoped>\n",
       "    .dataframe tbody tr th:only-of-type {\n",
       "        vertical-align: middle;\n",
       "    }\n",
       "\n",
       "    .dataframe tbody tr th {\n",
       "        vertical-align: top;\n",
       "    }\n",
       "\n",
       "    .dataframe thead th {\n",
       "        text-align: right;\n",
       "    }\n",
       "</style>\n",
       "<table border=\"1\" class=\"dataframe\">\n",
       "  <thead>\n",
       "    <tr style=\"text-align: right;\">\n",
       "      <th></th>\n",
       "      <th>cds_code</th>\n",
       "      <th>name</th>\n",
       "      <th>homicide_count</th>\n",
       "    </tr>\n",
       "  </thead>\n",
       "  <tbody>\n",
       "    <tr>\n",
       "      <th>0</th>\n",
       "      <td>19642121930056</td>\n",
       "      <td>Cerritos High</td>\n",
       "      <td>2</td>\n",
       "    </tr>\n",
       "    <tr>\n",
       "      <th>1</th>\n",
       "      <td>19642121930361</td>\n",
       "      <td>Artesia High</td>\n",
       "      <td>7</td>\n",
       "    </tr>\n",
       "    <tr>\n",
       "      <th>2</th>\n",
       "      <td>19642121933159</td>\n",
       "      <td>Gahr (Richard) High</td>\n",
       "      <td>8</td>\n",
       "    </tr>\n",
       "    <tr>\n",
       "      <th>3</th>\n",
       "      <td>19642460108407</td>\n",
       "      <td>Eastside High</td>\n",
       "      <td>1</td>\n",
       "    </tr>\n",
       "    <tr>\n",
       "      <th>4</th>\n",
       "      <td>19642461930213</td>\n",
       "      <td>Antelope Valley High</td>\n",
       "      <td>10</td>\n",
       "    </tr>\n",
       "  </tbody>\n",
       "</table>\n",
       "</div>"
      ],
      "text/plain": [
       "         cds_code                  name  homicide_count\n",
       "0  19642121930056         Cerritos High               2\n",
       "1  19642121930361          Artesia High               7\n",
       "2  19642121933159   Gahr (Richard) High               8\n",
       "3  19642460108407         Eastside High               1\n",
       "4  19642461930213  Antelope Valley High              10"
      ]
     },
     "execution_count": 24,
     "metadata": {},
     "output_type": "execute_result"
    }
   ],
   "source": [
    "homicides_by_school.head()"
   ]
  },
  {
   "cell_type": "markdown",
   "metadata": {},
   "source": [
    "Schools without homicides would have been left out from the join. Identify schools without homicides"
   ]
  },
  {
   "cell_type": "markdown",
   "metadata": {},
   "source": [
    "How many schools had no homicides nearby?"
   ]
  },
  {
   "cell_type": "code",
   "execution_count": 25,
   "metadata": {},
   "outputs": [],
   "source": [
    "zero_homicides = schools[~schools.cds_code.isin(valid_homicides_near_hs.cds_code)][['cds_code','name']]"
   ]
  },
  {
   "cell_type": "code",
   "execution_count": 26,
   "metadata": {},
   "outputs": [
    {
     "data": {
      "text/plain": [
       "33"
      ]
     },
     "execution_count": 26,
     "metadata": {},
     "output_type": "execute_result"
    }
   ],
   "source": [
    "len(zero_homicides)"
   ]
  },
  {
   "cell_type": "markdown",
   "metadata": {},
   "source": [
    "Add those schools into the ranking so it is complete."
   ]
  },
  {
   "cell_type": "code",
   "execution_count": 27,
   "metadata": {
    "scrolled": true
   },
   "outputs": [],
   "source": [
    "complete_homicides_by_school = pd.concat([homicides_by_school, zero_homicides]).fillna(0)"
   ]
  },
  {
   "cell_type": "markdown",
   "metadata": {},
   "source": [
    "Make sure that worked."
   ]
  },
  {
   "cell_type": "code",
   "execution_count": 28,
   "metadata": {},
   "outputs": [],
   "source": [
    "assert len(complete_homicides_by_school) == len(schools)"
   ]
  },
  {
   "cell_type": "markdown",
   "metadata": {},
   "source": [
    "What is the distribution of schools?"
   ]
  },
  {
   "cell_type": "code",
   "execution_count": 29,
   "metadata": {},
   "outputs": [
    {
     "data": {
      "text/html": [
       "<div>\n",
       "<style scoped>\n",
       "    .dataframe tbody tr th:only-of-type {\n",
       "        vertical-align: middle;\n",
       "    }\n",
       "\n",
       "    .dataframe tbody tr th {\n",
       "        vertical-align: top;\n",
       "    }\n",
       "\n",
       "    .dataframe thead th {\n",
       "        text-align: right;\n",
       "    }\n",
       "</style>\n",
       "<table border=\"1\" class=\"dataframe\">\n",
       "  <thead>\n",
       "    <tr style=\"text-align: right;\">\n",
       "      <th></th>\n",
       "      <th>index</th>\n",
       "      <th>homicide_count</th>\n",
       "    </tr>\n",
       "  </thead>\n",
       "  <tbody>\n",
       "    <tr>\n",
       "      <th>0</th>\n",
       "      <td>count</td>\n",
       "      <td>295.000000</td>\n",
       "    </tr>\n",
       "    <tr>\n",
       "      <th>1</th>\n",
       "      <td>mean</td>\n",
       "      <td>13.745763</td>\n",
       "    </tr>\n",
       "    <tr>\n",
       "      <th>2</th>\n",
       "      <td>std</td>\n",
       "      <td>17.190404</td>\n",
       "    </tr>\n",
       "    <tr>\n",
       "      <th>3</th>\n",
       "      <td>min</td>\n",
       "      <td>0.000000</td>\n",
       "    </tr>\n",
       "    <tr>\n",
       "      <th>4</th>\n",
       "      <td>25%</td>\n",
       "      <td>2.000000</td>\n",
       "    </tr>\n",
       "    <tr>\n",
       "      <th>5</th>\n",
       "      <td>50%</td>\n",
       "      <td>6.000000</td>\n",
       "    </tr>\n",
       "    <tr>\n",
       "      <th>6</th>\n",
       "      <td>75%</td>\n",
       "      <td>20.500000</td>\n",
       "    </tr>\n",
       "    <tr>\n",
       "      <th>7</th>\n",
       "      <td>max</td>\n",
       "      <td>105.000000</td>\n",
       "    </tr>\n",
       "  </tbody>\n",
       "</table>\n",
       "</div>"
      ],
      "text/plain": [
       "   index  homicide_count\n",
       "0  count      295.000000\n",
       "1   mean       13.745763\n",
       "2    std       17.190404\n",
       "3    min        0.000000\n",
       "4    25%        2.000000\n",
       "5    50%        6.000000\n",
       "6    75%       20.500000\n",
       "7    max      105.000000"
      ]
     },
     "execution_count": 29,
     "metadata": {},
     "output_type": "execute_result"
    }
   ],
   "source": [
    "complete_homicides_by_school.describe().reset_index()"
   ]
  },
  {
   "cell_type": "code",
   "execution_count": 30,
   "metadata": {},
   "outputs": [
    {
     "data": {
      "application/vnd.vegalite.v2+json": {
       "$schema": "https://vega.github.io/schema/vega-lite/v2.6.0.json",
       "config": {
        "view": {
         "height": 300,
         "width": 400
        }
       },
       "data": {
        "name": "data-173fb6dfb108c6feda3511963b6b3f91"
       },
       "datasets": {
        "data-173fb6dfb108c6feda3511963b6b3f91": [
         {
          "cds_code": "19642121930056",
          "homicide_count": 2,
          "name": "Cerritos High"
         },
         {
          "cds_code": "19642121930361",
          "homicide_count": 7,
          "name": "Artesia High"
         },
         {
          "cds_code": "19642121933159",
          "homicide_count": 8,
          "name": "Gahr (Richard) High"
         },
         {
          "cds_code": "19642460108407",
          "homicide_count": 1,
          "name": "Eastside High"
         },
         {
          "cds_code": "19642461930213",
          "homicide_count": 10,
          "name": "Antelope Valley High"
         },
         {
          "cds_code": "19642461936624",
          "homicide_count": 9,
          "name": "Palmdale High"
         },
         {
          "cds_code": "19642461995844",
          "homicide_count": 2,
          "name": "Lancaster High"
         },
         {
          "cds_code": "19642461996537",
          "homicide_count": 4,
          "name": "Desert Sands Charter"
         },
         {
          "cds_code": "19642611930288",
          "homicide_count": 3,
          "name": "Arcadia High"
         },
         {
          "cds_code": "19642791930528",
          "homicide_count": 11,
          "name": "Azusa High"
         },
         {
          "cds_code": "19642791933449",
          "homicide_count": 7,
          "name": "Gladstone High"
         },
         {
          "cds_code": "19642871930601",
          "homicide_count": 2,
          "name": "Baldwin Park High"
         },
         {
          "cds_code": "19642871938166",
          "homicide_count": 10,
          "name": "Sierra Vista High"
         },
         {
          "cds_code": "19642871996479",
          "homicide_count": 1,
          "name": "Opportunities for Learning - Baldwin Park"
         },
         {
          "cds_code": "19642951930700",
          "homicide_count": 6,
          "name": "Bassett Senior High"
         },
         {
          "cds_code": "19643031930775",
          "homicide_count": 11,
          "name": "Bellflower High"
         },
         {
          "cds_code": "19643031935618",
          "homicide_count": 5,
          "name": "Mayfair High"
         },
         {
          "cds_code": "19643111930981",
          "homicide_count": 1,
          "name": "Beverly Hills High"
         },
         {
          "cds_code": "19643291937739",
          "homicide_count": 2,
          "name": "San Dimas High"
         },
         {
          "cds_code": "19643371931187",
          "homicide_count": 4,
          "name": "Burbank High"
         },
         {
          "cds_code": "19643371931237",
          "homicide_count": 2,
          "name": "Burroughs High"
         },
         {
          "cds_code": "19643520128488",
          "homicide_count": 4,
          "name": "Family First Charter"
         },
         {
          "cds_code": "19643521933951",
          "homicide_count": 4,
          "name": "Hawthorne High"
         },
         {
          "cds_code": "19643521934926",
          "homicide_count": 3,
          "name": "Lawndale High"
         },
         {
          "cds_code": "19643521935048",
          "homicide_count": 14,
          "name": "Leuzinger High"
         },
         {
          "cds_code": "19643781931666",
          "homicide_count": 1,
          "name": "Charter Oak High"
         },
         {
          "cds_code": "19643941931823",
          "homicide_count": 1,
          "name": "Claremont High"
         },
         {
          "cds_code": "19644361932086",
          "homicide_count": 4,
          "name": "Covina High"
         },
         {
          "cds_code": "19644361936418",
          "homicide_count": 8,
          "name": "Northview High"
         },
         {
          "cds_code": "19644361938372",
          "homicide_count": 2,
          "name": "South Hills High"
         },
         {
          "cds_code": "19644441932201",
          "homicide_count": 3,
          "name": "Culver City High"
         },
         {
          "cds_code": "19644511932441",
          "homicide_count": 8,
          "name": "Downey High"
         },
         {
          "cds_code": "19644511939164",
          "homicide_count": 5,
          "name": "Warren (Earl) High"
         },
         {
          "cds_code": "19644690128736",
          "homicide_count": 7,
          "name": "Opportunities for Learning - Duarte"
         },
         {
          "cds_code": "19644690134858",
          "homicide_count": 1,
          "name": "California School of the Arts - San Gabriel Valley"
         },
         {
          "cds_code": "19644691932482",
          "homicide_count": 2,
          "name": "Duarte High"
         },
         {
          "cds_code": "19645191930320",
          "homicide_count": 2,
          "name": "Arroyo High"
         },
         {
          "cds_code": "19645191932664",
          "homicide_count": 12,
          "name": "El Monte High"
         },
         {
          "cds_code": "19645191932680",
          "homicide_count": 9,
          "name": "Mountain View High"
         },
         {
          "cds_code": "19645191937481",
          "homicide_count": 5,
          "name": "Rosemead High"
         },
         {
          "cds_code": "19645191995661",
          "homicide_count": 5,
          "name": "South El Monte High"
         },
         {
          "cds_code": "19645270133835",
          "homicide_count": 1,
          "name": "Ellen Ochoa Prep Academy"
         },
         {
          "cds_code": "19645271932706",
          "homicide_count": 6,
          "name": "El Rancho High"
         },
         {
          "cds_code": "19645351932763",
          "homicide_count": 1,
          "name": "El Segundo High"
         },
         {
          "cds_code": "19645681932144",
          "homicide_count": 2,
          "name": "Crescenta Valley High"
         },
         {
          "cds_code": "19645681933530",
          "homicide_count": 5,
          "name": "Glendale High"
         },
         {
          "cds_code": "19645681934082",
          "homicide_count": 3,
          "name": "Herbert Hoover High"
         },
         {
          "cds_code": "19645681996131",
          "homicide_count": 2,
          "name": "Anderson W. Clark Magnet High"
         },
         {
          "cds_code": "19646341934231",
          "homicide_count": 30,
          "name": "Inglewood High"
         },
         {
          "cds_code": "19646341936046",
          "homicide_count": 31,
          "name": "Morningside High"
         },
         {
          "cds_code": "19646341996529",
          "homicide_count": 34,
          "name": "City Honors College Preparatory Academy"
         },
         {
          "cds_code": "19646341996586",
          "homicide_count": 15,
          "name": "Animo Inglewood Charter High"
         },
         {
          "cds_code": "19647250127381",
          "homicide_count": 3,
          "name": "Ernest S. McBride, Sr. High"
         },
         {
          "cds_code": "19647250131938",
          "homicide_count": 41,
          "name": "Clear Passage Educational Center"
         },
         {
          "cds_code": "19647250132324",
          "homicide_count": 1,
          "name": "Eunice Sato Academy of Math & Science"
         },
         {
          "cds_code": "19647251934470",
          "homicide_count": 14,
          "name": "Jordan High"
         },
         {
          "cds_code": "19647251934678",
          "homicide_count": 3,
          "name": "Lakewood High"
         },
         {
          "cds_code": "19647251935758",
          "homicide_count": 2,
          "name": "Millikan High"
         },
         {
          "cds_code": "19647251936947",
          "homicide_count": 63,
          "name": "Polytechnic High"
         },
         {
          "cds_code": "19647251939875",
          "homicide_count": 5,
          "name": "Wilson High"
         },
         {
          "cds_code": "19647251995539",
          "homicide_count": 10,
          "name": "California Academy of Mathematics and Science"
         },
         {
          "cds_code": "19647251995935",
          "homicide_count": 4,
          "name": "Cabrillo High"
         },
         {
          "cds_code": "19647330100677",
          "homicide_count": 2,
          "name": "High Tech LA"
         },
         {
          "cds_code": "19647330100750",
          "homicide_count": 53,
          "name": "Wallis Annenberg High"
         },
         {
          "cds_code": "19647330100800",
          "homicide_count": 33,
          "name": "Central City Value"
         },
         {
          "cds_code": "19647330101196",
          "homicide_count": 37,
          "name": "ICEF View Park Preparatory High"
         },
         {
          "cds_code": "19647330101659",
          "homicide_count": 32,
          "name": "CATCH Prep Charter High, Inc."
         },
         {
          "cds_code": "19647330101675",
          "homicide_count": 28,
          "name": "Oscar De La Hoya Animo Charter High"
         },
         {
          "cds_code": "19647330102541",
          "homicide_count": 25,
          "name": "New Designs Charter"
         },
         {
          "cds_code": "19647330102913",
          "homicide_count": 49,
          "name": "Middle College High"
         },
         {
          "cds_code": "19647330102921",
          "homicide_count": 23,
          "name": "Dr. Richard A. Vladovic Harbor Teacher Preparation Academy"
         },
         {
          "cds_code": "19647330106435",
          "homicide_count": 45,
          "name": "Camino Nuevo Charter High"
         },
         {
          "cds_code": "19647330106831",
          "homicide_count": 10,
          "name": "Animo Venice Charter High"
         },
         {
          "cds_code": "19647330106849",
          "homicide_count": 55,
          "name": "Animo Pat Brown"
         },
         {
          "cds_code": "19647330106864",
          "homicide_count": 21,
          "name": "Alliance Gertz-Ressler Richard Merkin 6-12 Complex"
         },
         {
          "cds_code": "19647330107003",
          "homicide_count": 3,
          "name": "Northridge Academy High"
         },
         {
          "cds_code": "19647330107755",
          "homicide_count": 16,
          "name": "Port of Los Angeles High"
         },
         {
          "cds_code": "19647330108878",
          "homicide_count": 16,
          "name": "CHAMPS - Charter HS of Arts-Multimedia & Performing"
         },
         {
          "cds_code": "19647330108894",
          "homicide_count": 85,
          "name": "Alliance Judy Ivie Burton Technology Academy High"
         },
         {
          "cds_code": "19647330108936",
          "homicide_count": 23,
          "name": "Alliance Collins Family College-Ready High"
         },
         {
          "cds_code": "19647330109447",
          "homicide_count": 29,
          "name": "Santee Education Complex"
         },
         {
          "cds_code": "19647330109454",
          "homicide_count": 21,
          "name": "South East High"
         },
         {
          "cds_code": "19647330109462",
          "homicide_count": 15,
          "name": "Maywood Academy High"
         },
         {
          "cds_code": "19647330111484",
          "homicide_count": 44,
          "name": "New Village Girls Academy"
         },
         {
          "cds_code": "19647330111492",
          "homicide_count": 59,
          "name": "Alliance Patti And Peter Neuwirth Leadership Academy"
         },
         {
          "cds_code": "19647330111500",
          "homicide_count": 27,
          "name": "Alliance Dr. Olga Mohan High"
         },
         {
          "cds_code": "19647330111575",
          "homicide_count": 22,
          "name": "Animo Ralph Bunche Charter High"
         },
         {
          "cds_code": "19647330111583",
          "homicide_count": 37,
          "name": "Animo Jackie Robinson High"
         },
         {
          "cds_code": "19647330111625",
          "homicide_count": 38,
          "name": "Animo Watts College Preparatory Academy"
         },
         {
          "cds_code": "19647330111641",
          "homicide_count": 54,
          "name": "Alliance Ouchi-O'Donovan 6-12 Complex"
         },
         {
          "cds_code": "19647330111658",
          "homicide_count": 5,
          "name": "Alliance Marc & Eva Stern Math and Science"
         },
         {
          "cds_code": "19647330112029",
          "homicide_count": 45,
          "name": "School of Business and Tourism at Contreras Learning Complex"
         },
         {
          "cds_code": "19647330112037",
          "homicide_count": 5,
          "name": "East Valley Senior High"
         },
         {
          "cds_code": "19647330112045",
          "homicide_count": 10,
          "name": "Arleta High"
         },
         {
          "cds_code": "19647330112052",
          "homicide_count": 24,
          "name": "Panorama High"
         },
         {
          "cds_code": "19647330112508",
          "homicide_count": 15,
          "name": "Bright Star Secondary Charter Academy"
         },
         {
          "cds_code": "19647330114850",
          "homicide_count": 20,
          "name": "West Adams Preparatory High"
         },
         {
          "cds_code": "19647330117051",
          "homicide_count": 34,
          "name": "Edward R. Roybal Learning Center"
         },
         {
          "cds_code": "19647330117606",
          "homicide_count": 4,
          "name": "Alliance Leichtman-Levine Family Foundation Environmental Science High"
         },
         {
          "cds_code": "19647330117622",
          "homicide_count": 2,
          "name": "Magnolia Science Academy 4"
         },
         {
          "cds_code": "19647330117911",
          "homicide_count": 5,
          "name": "New Millennium Secondary"
         },
         {
          "cds_code": "19647330118588",
          "homicide_count": 62,
          "name": "Alain Leroy Locke College Preparatory Academy"
         },
         {
          "cds_code": "19647330119651",
          "homicide_count": 4,
          "name": "Sun Valley High"
         },
         {
          "cds_code": "19647330119685",
          "homicide_count": 40,
          "name": "New Open World Academy K-12"
         },
         {
          "cds_code": "19647330119693",
          "homicide_count": 35,
          "name": "UCLA Community K-12"
         },
         {
          "cds_code": "19647330119727",
          "homicide_count": 22,
          "name": "Ramon C. Cortines School of Visual and Performing Arts"
         },
         {
          "cds_code": "19647330119966",
          "homicide_count": 27,
          "name": "Felicitas and Gonzalo Mendez High"
         },
         {
          "cds_code": "19647330120071",
          "homicide_count": 38,
          "name": "New Designs Charter School-Watts"
         },
         {
          "cds_code": "19647330120360",
          "homicide_count": 2,
          "name": "Daniel Pearl Journalism & Communications Magnet"
         },
         {
          "cds_code": "19647330121095",
          "homicide_count": 42,
          "name": "Ambassador-Global Leadership"
         },
         {
          "cds_code": "19647330121285",
          "homicide_count": 51,
          "name": "Alliance Cindy and Bill Simon Technology Academy High"
         },
         {
          "cds_code": "19647330122341",
          "homicide_count": 22,
          "name": "Esteban Torres East LA Performing Arts Magnet"
         },
         {
          "cds_code": "19647330122721",
          "homicide_count": 11,
          "name": "Aspire Pacific Academy"
         },
         {
          "cds_code": "19647330123133",
          "homicide_count": 24,
          "name": "Alliance Susan and Eric Smidt Technology High"
         },
         {
          "cds_code": "19647330123141",
          "homicide_count": 42,
          "name": "Alliance Ted K. Tajima High"
         },
         {
          "cds_code": "19647330124404",
          "homicide_count": 14,
          "name": "Cesar E. Chavez Learning Academies-Technology Preparatory Academy"
         },
         {
          "cds_code": "19647330124412",
          "homicide_count": 15,
          "name": "Sonia Sotomayor Arts and Sciences Academies"
         },
         {
          "cds_code": "19647330124479",
          "homicide_count": 59,
          "name": "Dr. Maya Angelou Community High"
         },
         {
          "cds_code": "19647330124511",
          "homicide_count": 32,
          "name": "Performing Arts Community at Diego Rivera Learning Complex"
         },
         {
          "cds_code": "19647330124529",
          "homicide_count": 5,
          "name": "Rancho Dominguez Preparatory"
         },
         {
          "cds_code": "19647330124891",
          "homicide_count": 46,
          "name": "Alliance Renee and Meyer Luskin Academy High"
         },
         {
          "cds_code": "19647330125989",
          "homicide_count": 17,
          "name": "STEM Academy at Bernstein High"
         },
         {
          "cds_code": "19647330126136",
          "homicide_count": 35,
          "name": "Math and Science College Preparatory"
         },
         {
          "cds_code": "19647330126474",
          "homicide_count": 21,
          "name": "Hilda L. Solis Learning Academy School of Technology, Business and Education"
         },
         {
          "cds_code": "19647330126508",
          "homicide_count": 72,
          "name": "Augustus F. Hawkins High C Responsible Indigenous Social Entrepreneurship"
         },
         {
          "cds_code": "19647330126532",
          "homicide_count": 23,
          "name": "Linda Esperanza Marquez High C School of Social Justice"
         },
         {
          "cds_code": "19647330126540",
          "homicide_count": 16,
          "name": "Science, Technology, Engineering, Arts and Mathematics at Legacy High School Complex"
         },
         {
          "cds_code": "19647330126573",
          "homicide_count": 105,
          "name": "Academy for Multilingual Arts and Science at Mervyn M. Dymally High"
         },
         {
          "cds_code": "19647330127787",
          "homicide_count": 3,
          "name": "Humanities and Arts (HARTS) Academy of Los Angeles"
         },
         {
          "cds_code": "19647330127795",
          "homicide_count": 46,
          "name": "Contreras Learning Center-School of Social Justice"
         },
         {
          "cds_code": "19647330127803",
          "homicide_count": 28,
          "name": "Early College Academy-LA Trade Tech College"
         },
         {
          "cds_code": "19647330127910",
          "homicide_count": 31,
          "name": "Camino Nuevo High #2"
         },
         {
          "cds_code": "19647330129536",
          "homicide_count": 29,
          "name": "Boyle Heights STEM High"
         },
         {
          "cds_code": "19647330130997",
          "homicide_count": 15,
          "name": "Sylmar Biotech Health Academy"
         },
         {
          "cds_code": "19647330132126",
          "homicide_count": 10,
          "name": "Bert Corona Charter High"
         },
         {
          "cds_code": "19647330133272",
          "homicide_count": 6,
          "name": "PUC Triumph Charter Academy and PUC Triumph Charter High"
         },
         {
          "cds_code": "19647330133280",
          "homicide_count": 15,
          "name": "PUC Nueva Esperanza Charter Academy"
         },
         {
          "cds_code": "19647330133603",
          "homicide_count": 4,
          "name": "Girls Academic Leadership Academy, Dr. Michelle King School for Sci, Tech, Eng and Math"
         },
         {
          "cds_code": "19647330135681",
          "homicide_count": 14,
          "name": "Horace Mann UCLA Community"
         },
         {
          "cds_code": "19647330135723",
          "homicide_count": 21,
          "name": "Ednovate - Brio College Prep"
         },
         {
          "cds_code": "19647330135855",
          "homicide_count": 2,
          "name": "Maywood Center for Enriched Studies"
         },
         {
          "cds_code": "19647330135996",
          "homicide_count": 9,
          "name": "Boys Academic Leadership Academy"
         },
         {
          "cds_code": "19647330137083",
          "homicide_count": 4,
          "name": "University Pathways Medical Magnet Academy"
         },
         {
          "cds_code": "19647330137091",
          "homicide_count": 6,
          "name": "University Pathways Public Service Academy"
         },
         {
          "cds_code": "19647330137521",
          "homicide_count": 6,
          "name": "Vox Collegiate of Los Angeles"
         },
         {
          "cds_code": "19647330137562",
          "homicide_count": 10,
          "name": "Matrix for Success Academy"
         },
         {
          "cds_code": "19647331930650",
          "homicide_count": 15,
          "name": "Phineas Banning Senior High"
         },
         {
          "cds_code": "19647331930866",
          "homicide_count": 17,
          "name": "Bell Senior High"
         },
         {
          "cds_code": "19647331930924",
          "homicide_count": 43,
          "name": "Belmont Senior High"
         },
         {
          "cds_code": "19647331931047",
          "homicide_count": 2,
          "name": "Birmingham Community Charter High"
         },
         {
          "cds_code": "19647331931476",
          "homicide_count": 2,
          "name": "Canoga Park Senior High"
         },
         {
          "cds_code": "19647331931526",
          "homicide_count": 16,
          "name": "Carson Senior High"
         },
         {
          "cds_code": "19647331931708",
          "homicide_count": 3,
          "name": "Chatsworth Charter High"
         },
         {
          "cds_code": "19647331931864",
          "homicide_count": 3,
          "name": "Grover Cleveland Charter High"
         },
         {
          "cds_code": "19647331932128",
          "homicide_count": 36,
          "name": "Crenshaw Science, Technology, Engineering, Math and Medicine Magnet"
         },
         {
          "cds_code": "19647331932383",
          "homicide_count": 37,
          "name": "Susan Miller Dorsey Senior High"
         },
         {
          "cds_code": "19647331932540",
          "homicide_count": 1,
          "name": "Eagle Rock High"
         },
         {
          "cds_code": "19647331932623",
          "homicide_count": 1,
          "name": "El Camino Real Charter High"
         },
         {
          "cds_code": "19647331932920",
          "homicide_count": 2,
          "name": "Fairfax Senior High"
         },
         {
          "cds_code": "19647331932987",
          "homicide_count": 5,
          "name": "John H. Francis Polytechnic"
         },
         {
          "cds_code": "19647331933043",
          "homicide_count": 12,
          "name": "Benjamin Franklin Senior High"
         },
         {
          "cds_code": "19647331933118",
          "homicide_count": 81,
          "name": "John C. Fremont Senior High"
         },
         {
          "cds_code": "19647331933241",
          "homicide_count": 4,
          "name": "Gardena Senior High"
         },
         {
          "cds_code": "19647331933381",
          "homicide_count": 29,
          "name": "James A. Garfield Senior High"
         },
         {
          "cds_code": "19647331933746",
          "homicide_count": 2,
          "name": "Granada Hills Charter High"
         },
         {
          "cds_code": "19647331933795",
          "homicide_count": 5,
          "name": "Ulysses S. Grant Senior High"
         },
         {
          "cds_code": "19647331933852",
          "homicide_count": 3,
          "name": "Alexander Hamilton Senior High"
         },
         {
          "cds_code": "19647331934033",
          "homicide_count": 30,
          "name": "Hollywood Senior High"
         },
         {
          "cds_code": "19647331934157",
          "homicide_count": 11,
          "name": "Huntington Park Senior High"
         },
         {
          "cds_code": "19647331934371",
          "homicide_count": 32,
          "name": "Thomas Jefferson Senior High"
         },
         {
          "cds_code": "19647331934454",
          "homicide_count": 36,
          "name": "David Starr Jordan Senior High"
         },
         {
          "cds_code": "19647331935121",
          "homicide_count": 19,
          "name": "Abraham Lincoln Senior High"
         },
         {
          "cds_code": "19647331935352",
          "homicide_count": 6,
          "name": "Los Angeles Senior High"
         },
         {
          "cds_code": "19647331935519",
          "homicide_count": 44,
          "name": "Manual Arts Senior High"
         },
         {
          "cds_code": "19647331935568",
          "homicide_count": 6,
          "name": "John Marshall Senior High"
         },
         {
          "cds_code": "19647331935865",
          "homicide_count": 12,
          "name": "James Monroe High"
         },
         {
          "cds_code": "19647331936160",
          "homicide_count": 3,
          "name": "Nathaniel Narbonne Senior High"
         },
         {
          "cds_code": "19647331936350",
          "homicide_count": 5,
          "name": "North Hollywood Senior High"
         },
         {
          "cds_code": "19647331937226",
          "homicide_count": 7,
          "name": "Reseda Charter High"
         },
         {
          "cds_code": "19647331937424",
          "homicide_count": 32,
          "name": "Theodore Roosevelt Senior High"
         },
         {
          "cds_code": "19647331937622",
          "homicide_count": 15,
          "name": "San Fernando Senior High"
         },
         {
          "cds_code": "19647331937838",
          "homicide_count": 10,
          "name": "San Pedro Senior High"
         },
         {
          "cds_code": "19647331938307",
          "homicide_count": 9,
          "name": "South Gate Senior High"
         },
         {
          "cds_code": "19647331938612",
          "homicide_count": 6,
          "name": "Taft Charter High"
         },
         {
          "cds_code": "19647331938968",
          "homicide_count": 16,
          "name": "Van Nuys Senior High"
         },
         {
          "cds_code": "19647331939040",
          "homicide_count": 6,
          "name": "Venice Senior High"
         },
         {
          "cds_code": "19647331939107",
          "homicide_count": 3,
          "name": "Verdugo Hills Senior High"
         },
         {
          "cds_code": "19647331939305",
          "homicide_count": 50,
          "name": "George Washington Preparatory High"
         },
         {
          "cds_code": "19647331939479",
          "homicide_count": 1,
          "name": "WESM Health/Sports Medicine"
         },
         {
          "cds_code": "19647331939859",
          "homicide_count": 7,
          "name": "Woodrow Wilson Senior High"
         },
         {
          "cds_code": "19647331939941",
          "homicide_count": 1,
          "name": "John F. Kennedy High"
         },
         {
          "cds_code": "19647331996610",
          "homicide_count": 21,
          "name": "Los Angeles Leadership Academy"
         },
         {
          "cds_code": "19647336016885",
          "homicide_count": 21,
          "name": "Elizabeth Learning Center"
         },
         {
          "cds_code": "19647336019715",
          "homicide_count": 23,
          "name": "Vaughn Next Century Learning Center"
         },
         {
          "cds_code": "19647336058002",
          "homicide_count": 20,
          "name": "Robert Fulton College Preparatory"
         },
         {
          "cds_code": "19647336061451",
          "homicide_count": 34,
          "name": "Foshay Learning Center"
         },
         {
          "cds_code": "19647336061600",
          "homicide_count": 11,
          "name": "Sun Valley Magnet"
         },
         {
          "cds_code": "19647336116750",
          "homicide_count": 6,
          "name": "PUC Community Charter Middle and PUC Community Charter Early College High"
         },
         {
          "cds_code": "19647740109538",
          "homicide_count": 18,
          "name": "Marco Antonio Firebaugh High"
         },
         {
          "cds_code": "19647741935436",
          "homicide_count": 16,
          "name": "Lynwood High"
         },
         {
          "cds_code": "19647901935923",
          "homicide_count": 6,
          "name": "Monrovia High"
         },
         {
          "cds_code": "19647901996404",
          "homicide_count": 4,
          "name": "Mountain Park"
         },
         {
          "cds_code": "19648080124552",
          "homicide_count": 11,
          "name": "Applied Technology Center"
         },
         {
          "cds_code": "19648081930155",
          "homicide_count": 5,
          "name": "Schurr High"
         },
         {
          "cds_code": "19648081930825",
          "homicide_count": 14,
          "name": "Bell Gardens High"
         },
         {
          "cds_code": "19648081935998",
          "homicide_count": 16,
          "name": "Montebello High"
         },
         {
          "cds_code": "19648401933647",
          "homicide_count": 7,
          "name": "John H. Glenn High"
         },
         {
          "cds_code": "19648401934728",
          "homicide_count": 1,
          "name": "La Mirada High"
         },
         {
          "cds_code": "19648401936467",
          "homicide_count": 13,
          "name": "Norwalk High"
         },
         {
          "cds_code": "19648651995588",
          "homicide_count": 1,
          "name": "Palos Verdes Peninsula High"
         },
         {
          "cds_code": "19648730136705",
          "homicide_count": 1,
          "name": "Odyssey STEM Academy"
         },
         {
          "cds_code": "19648731936749",
          "homicide_count": 15,
          "name": "Paramount High"
         },
         {
          "cds_code": "19648810113464",
          "homicide_count": 2,
          "name": "Aveson Global Leadership Academy"
         },
         {
          "cds_code": "19648810118075",
          "homicide_count": 2,
          "name": "Learning Works"
         },
         {
          "cds_code": "19648811931062",
          "homicide_count": 3,
          "name": "Blair High"
         },
         {
          "cds_code": "19648811931674",
          "homicide_count": 1,
          "name": "Marshall Fundamental"
         },
         {
          "cds_code": "19648811936103",
          "homicide_count": 12,
          "name": "John Muir High"
         },
         {
          "cds_code": "19649070115170",
          "homicide_count": 16,
          "name": "School of Extended Educational Options"
         },
         {
          "cds_code": "19649071933175",
          "homicide_count": 6,
          "name": "Ganesha High"
         },
         {
          "cds_code": "19649071933324",
          "homicide_count": 12,
          "name": "Garey High"
         },
         {
          "cds_code": "19649071937028",
          "homicide_count": 14,
          "name": "Pomona High"
         },
         {
          "cds_code": "19649071995901",
          "homicide_count": 1,
          "name": "Diamond Ranch High"
         },
         {
          "cds_code": "19649076061634",
          "homicide_count": 12,
          "name": "Fremont Academy of Engineering and Design"
         },
         {
          "cds_code": "19649076061642",
          "homicide_count": 15,
          "name": "Palomares Academy of Health Science"
         },
         {
          "cds_code": "19649801938000",
          "homicide_count": 8,
          "name": "Santa Monica High"
         },
         {
          "cds_code": "19650291938455",
          "homicide_count": 3,
          "name": "South Pasadena Senior High"
         },
         {
          "cds_code": "19650521938679",
          "homicide_count": 4,
          "name": "Temple City High"
         },
         {
          "cds_code": "19650601936277",
          "homicide_count": 3,
          "name": "North High"
         },
         {
          "cds_code": "19650601938752",
          "homicide_count": 3,
          "name": "Torrance High"
         },
         {
          "cds_code": "19650601939602",
          "homicide_count": 2,
          "name": "West High"
         },
         {
          "cds_code": "19650940122432",
          "homicide_count": 1,
          "name": "Edgewood High"
         },
         {
          "cds_code": "19650941939537",
          "homicide_count": 3,
          "name": "West Covina High"
         },
         {
          "cds_code": "19651281934868",
          "homicide_count": 1,
          "name": "La Serna High"
         },
         {
          "cds_code": "19651281936889",
          "homicide_count": 7,
          "name": "Pioneer High"
         },
         {
          "cds_code": "19651281937903",
          "homicide_count": 3,
          "name": "Santa Fe High"
         },
         {
          "cds_code": "19651281939701",
          "homicide_count": 8,
          "name": "Whittier High"
         },
         {
          "cds_code": "19651360102459",
          "homicide_count": 1,
          "name": "Golden Valley High"
         },
         {
          "cds_code": "19651360117234",
          "homicide_count": 1,
          "name": "Santa Clarita Valley International"
         },
         {
          "cds_code": "19651361931492",
          "homicide_count": 2,
          "name": "Canyon High"
         },
         {
          "cds_code": "19651361933902",
          "homicide_count": 3,
          "name": "William S. Hart High"
         },
         {
          "cds_code": "19734370115725",
          "homicide_count": 63,
          "name": "Lifeline Education Charter"
         },
         {
          "cds_code": "19734370137984",
          "homicide_count": 1,
          "name": "Ánimo Compton Charter"
         },
         {
          "cds_code": "19734371931567",
          "homicide_count": 41,
          "name": "Centennial High"
         },
         {
          "cds_code": "19734371931963",
          "homicide_count": 50,
          "name": "Compton High"
         },
         {
          "cds_code": "19734371932326",
          "homicide_count": 22,
          "name": "Dominguez High"
         },
         {
          "cds_code": "19734371996057",
          "homicide_count": 41,
          "name": "Thurgood Marshall"
         },
         {
          "cds_code": "19734451934801",
          "homicide_count": 3,
          "name": "La Puente High"
         },
         {
          "cds_code": "19734451935246",
          "homicide_count": 1,
          "name": "Los Altos High"
         },
         {
          "cds_code": "19734451939834",
          "homicide_count": 2,
          "name": "Glen A. Wilson High"
         },
         {
          "cds_code": "19734451939925",
          "homicide_count": 4,
          "name": "William Workman High"
         },
         {
          "cds_code": "19734521936228",
          "homicide_count": 6,
          "name": "Nogales High"
         },
         {
          "cds_code": "19734601939149",
          "homicide_count": 2,
          "name": "Walnut High"
         },
         {
          "cds_code": "19752911995810",
          "homicide_count": 5,
          "name": "Gabrielino High"
         },
         {
          "cds_code": "19752911996016",
          "homicide_count": 2,
          "name": "Options for Youth San Gabriel"
         },
         {
          "cds_code": "19753331935808",
          "homicide_count": 1,
          "name": "Mira Costa High"
         },
         {
          "cds_code": "19753411937143",
          "homicide_count": 5,
          "name": "Redondo Union High"
         },
         {
          "cds_code": "19757131930163",
          "homicide_count": 1,
          "name": "Alhambra High"
         },
         {
          "cds_code": "19757131934553",
          "homicide_count": 3,
          "name": "Mark Keppel High"
         },
         {
          "cds_code": "19757131937697",
          "homicide_count": 3,
          "name": "San Gabriel High"
         },
         {
          "cds_code": "19768690119016",
          "homicide_count": 1,
          "name": "Da Vinci Science"
         },
         {
          "cds_code": "19768690119636",
          "homicide_count": 2,
          "name": "Da Vinci Design"
         },
         {
          "cds_code": "19768690131128",
          "homicide_count": 1,
          "name": "Da Vinci Communications High"
         },
         {
          "cds_code": "19651361996321",
          "homicide_count": 0,
          "name": "Academy of the Canyons"
         },
         {
          "cds_code": "19651361995802",
          "homicide_count": 0,
          "name": "Valencia High"
         },
         {
          "cds_code": "19651361931740",
          "homicide_count": 0,
          "name": "Saugus High"
         },
         {
          "cds_code": "19651360112359",
          "homicide_count": 0,
          "name": "Sequoia School"
         },
         {
          "cds_code": "19651281931302",
          "homicide_count": 0,
          "name": "California High"
         },
         {
          "cds_code": "19651360102475",
          "homicide_count": 0,
          "name": "West Ranch High"
         },
         {
          "cds_code": "19753091995786",
          "homicide_count": 0,
          "name": "Vasquez High"
         },
         {
          "cds_code": "19734601932862",
          "homicide_count": 0,
          "name": "Diamond Bar High"
         },
         {
          "cds_code": "19734521937564",
          "homicide_count": 0,
          "name": "John A. Rowland High"
         },
         {
          "cds_code": "19648651996552",
          "homicide_count": 0,
          "name": "Palos Verdes High"
         },
         {
          "cds_code": "19650601938356",
          "homicide_count": 0,
          "name": "South High"
         },
         {
          "cds_code": "19649801995737",
          "homicide_count": 0,
          "name": "Malibu High"
         },
         {
          "cds_code": "19649641937754",
          "homicide_count": 0,
          "name": "San Marino High"
         },
         {
          "cds_code": "19648811936822",
          "homicide_count": 0,
          "name": "Pasadena High"
         },
         {
          "cds_code": "19646591934611",
          "homicide_count": 0,
          "name": "La Canada High"
         },
         {
          "cds_code": "19646831930080",
          "homicide_count": 0,
          "name": "Agoura High"
         },
         {
          "cds_code": "19646831931781",
          "homicide_count": 0,
          "name": "Calabasas High"
         },
         {
          "cds_code": "19647250135525",
          "homicide_count": 0,
          "name": "Richard D. Browning High"
         },
         {
          "cds_code": "19647251930411",
          "homicide_count": 0,
          "name": "Avalon K-12"
         },
         {
          "cds_code": "19643291931088",
          "homicide_count": 0,
          "name": "Bonita High"
         },
         {
          "cds_code": "19642461995398",
          "homicide_count": 0,
          "name": "Highland High"
         },
         {
          "cds_code": "19642461937051",
          "homicide_count": 0,
          "name": "Quartz Hill High"
         },
         {
          "cds_code": "19642460100081",
          "homicide_count": 0,
          "name": "William J. (Pete) Knight High"
         },
         {
          "cds_code": "19642121931880",
          "homicide_count": 0,
          "name": "Whitney (Gretchen) High"
         },
         {
          "cds_code": "19647330124362",
          "homicide_count": 0,
          "name": "Valley Academy of Arts and Sciences"
         },
         {
          "cds_code": "19645761933597",
          "homicide_count": 0,
          "name": "Glendora High"
         },
         {
          "cds_code": "19642461995406",
          "homicide_count": 0,
          "name": "Littlerock High"
         },
         {
          "cds_code": "19642460126003",
          "homicide_count": 0,
          "name": "Academies of the Antelope Valley"
         },
         {
          "cds_code": "19753090138297",
          "homicide_count": 0,
          "name": "iLead Agua Dulce"
         },
         {
          "cds_code": "19753090136648",
          "homicide_count": 0,
          "name": "Options for Youth-Acton"
         },
         {
          "cds_code": "19753090134585",
          "homicide_count": 0,
          "name": "Pathways Academy Charter Adult Education"
         },
         {
          "cds_code": "19647331995836",
          "homicide_count": 0,
          "name": "Palisades Charter High"
         },
         {
          "cds_code": "19647331938885",
          "homicide_count": 0,
          "name": "University High School Charter"
         }
        ]
       },
       "encoding": {
        "x": {
         "axis": {
          "title": "Homicides nearby"
         },
         "bin": {
          "step": 5
         },
         "field": "homicide_count",
         "type": "quantitative"
        },
        "y": {
         "aggregate": "count",
         "axis": {
          "title": "Number of Schools"
         },
         "type": "quantitative"
        }
       },
       "mark": "bar",
       "title": "School homicide counts"
      },
      "text/plain": [
       "<VegaLite 2 object>\n",
       "\n",
       "If you see this message, it means the renderer has not been properly enabled\n",
       "for the frontend that you are using. For more information, see\n",
       "https://altair-viz.github.io/user_guide/troubleshooting.html\n"
      ]
     },
     "execution_count": 30,
     "metadata": {},
     "output_type": "execute_result"
    }
   ],
   "source": [
    "alt.Chart(complete_homicides_by_school, title=\"School homicide counts\").mark_bar().encode(\n",
    "    x=alt.X('homicide_count:Q', bin=alt.Bin(step=5), axis=alt.Axis(title=\"Homicides nearby\")),\n",
    "    y=alt.Y('count()', axis=alt.Axis(title='Number of Schools'))\n",
    ")"
   ]
  },
  {
   "cell_type": "markdown",
   "metadata": {},
   "source": [
    "How many schools have a homicide nearby?"
   ]
  },
  {
   "cell_type": "code",
   "execution_count": 31,
   "metadata": {},
   "outputs": [
    {
     "data": {
      "text/plain": [
       "262"
      ]
     },
     "execution_count": 31,
     "metadata": {},
     "output_type": "execute_result"
    }
   ],
   "source": [
    "len(complete_homicides_by_school[complete_homicides_by_school.homicide_count > 0])"
   ]
  },
  {
   "cell_type": "markdown",
   "metadata": {},
   "source": [
    "What percent schools had homicides nearby?"
   ]
  },
  {
   "cell_type": "code",
   "execution_count": 32,
   "metadata": {},
   "outputs": [
    {
     "data": {
      "text/plain": [
       "'89%'"
      ]
     },
     "execution_count": 32,
     "metadata": {},
     "output_type": "execute_result"
    }
   ],
   "source": [
    "\"{0:.0%}\".format(\n",
    "    len(complete_homicides_by_school[complete_homicides_by_school.homicide_count > 0]) / \n",
    "    float(len(complete_homicides_by_school)))"
   ]
  },
  {
   "cell_type": "markdown",
   "metadata": {},
   "source": [
    "What percent of homicides occured near schools?"
   ]
  },
  {
   "cell_type": "code",
   "execution_count": 33,
   "metadata": {},
   "outputs": [
    {
     "data": {
      "text/plain": [
       "'69%'"
      ]
     },
     "execution_count": 33,
     "metadata": {},
     "output_type": "execute_result"
    }
   ],
   "source": [
    "\"{0:.0%}\".format(valid_homicides_near_hs.ID.nunique() / float(len(homicides)))"
   ]
  },
  {
   "cell_type": "markdown",
   "metadata": {},
   "source": [
    "How many schools 50 or more homicides nearby?"
   ]
  },
  {
   "cell_type": "code",
   "execution_count": 34,
   "metadata": {},
   "outputs": [],
   "source": [
    "over_50 = homicides_by_school[homicides_by_school.homicide_count >= 50]"
   ]
  },
  {
   "cell_type": "code",
   "execution_count": 35,
   "metadata": {},
   "outputs": [
    {
     "data": {
      "text/plain": [
       "15"
      ]
     },
     "execution_count": 35,
     "metadata": {},
     "output_type": "execute_result"
    }
   ],
   "source": [
    "len(over_50)"
   ]
  },
  {
   "cell_type": "code",
   "execution_count": 43,
   "metadata": {},
   "outputs": [
    {
     "data": {
      "text/html": [
       "<div>\n",
       "<style scoped>\n",
       "    .dataframe tbody tr th:only-of-type {\n",
       "        vertical-align: middle;\n",
       "    }\n",
       "\n",
       "    .dataframe tbody tr th {\n",
       "        vertical-align: top;\n",
       "    }\n",
       "\n",
       "    .dataframe thead th {\n",
       "        text-align: right;\n",
       "    }\n",
       "</style>\n",
       "<table border=\"1\" class=\"dataframe\">\n",
       "  <thead>\n",
       "    <tr style=\"text-align: right;\">\n",
       "      <th></th>\n",
       "      <th>cds_code</th>\n",
       "      <th>name</th>\n",
       "      <th>homicide_count</th>\n",
       "    </tr>\n",
       "  </thead>\n",
       "  <tbody>\n",
       "    <tr>\n",
       "      <th>127</th>\n",
       "      <td>19647330126573</td>\n",
       "      <td>Academy for Multilingual Arts and Science at M...</td>\n",
       "      <td>105</td>\n",
       "    </tr>\n",
       "    <tr>\n",
       "      <th>78</th>\n",
       "      <td>19647330108894</td>\n",
       "      <td>Alliance Judy Ivie Burton Technology Academy High</td>\n",
       "      <td>85</td>\n",
       "    </tr>\n",
       "    <tr>\n",
       "      <th>161</th>\n",
       "      <td>19647331933118</td>\n",
       "      <td>John C. Fremont Senior High</td>\n",
       "      <td>81</td>\n",
       "    </tr>\n",
       "    <tr>\n",
       "      <th>124</th>\n",
       "      <td>19647330126508</td>\n",
       "      <td>Augustus F. Hawkins High C Responsible Indigen...</td>\n",
       "      <td>72</td>\n",
       "    </tr>\n",
       "    <tr>\n",
       "      <th>58</th>\n",
       "      <td>19647251936947</td>\n",
       "      <td>Polytechnic High</td>\n",
       "      <td>63</td>\n",
       "    </tr>\n",
       "    <tr>\n",
       "      <th>240</th>\n",
       "      <td>19734370115725</td>\n",
       "      <td>Lifeline Education Charter</td>\n",
       "      <td>63</td>\n",
       "    </tr>\n",
       "    <tr>\n",
       "      <th>101</th>\n",
       "      <td>19647330118588</td>\n",
       "      <td>Alain Leroy Locke College Preparatory Academy</td>\n",
       "      <td>62</td>\n",
       "    </tr>\n",
       "    <tr>\n",
       "      <th>84</th>\n",
       "      <td>19647330111492</td>\n",
       "      <td>Alliance Patti And Peter Neuwirth Leadership A...</td>\n",
       "      <td>59</td>\n",
       "    </tr>\n",
       "    <tr>\n",
       "      <th>117</th>\n",
       "      <td>19647330124479</td>\n",
       "      <td>Dr. Maya Angelou Community High</td>\n",
       "      <td>59</td>\n",
       "    </tr>\n",
       "    <tr>\n",
       "      <th>73</th>\n",
       "      <td>19647330106849</td>\n",
       "      <td>Animo Pat Brown</td>\n",
       "      <td>55</td>\n",
       "    </tr>\n",
       "    <tr>\n",
       "      <th>89</th>\n",
       "      <td>19647330111641</td>\n",
       "      <td>Alliance Ouchi-O'Donovan 6-12 Complex</td>\n",
       "      <td>54</td>\n",
       "    </tr>\n",
       "    <tr>\n",
       "      <th>63</th>\n",
       "      <td>19647330100750</td>\n",
       "      <td>Wallis Annenberg High</td>\n",
       "      <td>53</td>\n",
       "    </tr>\n",
       "    <tr>\n",
       "      <th>110</th>\n",
       "      <td>19647330121285</td>\n",
       "      <td>Alliance Cindy and Bill Simon Technology Acade...</td>\n",
       "      <td>51</td>\n",
       "    </tr>\n",
       "    <tr>\n",
       "      <th>187</th>\n",
       "      <td>19647331939305</td>\n",
       "      <td>George Washington Preparatory High</td>\n",
       "      <td>50</td>\n",
       "    </tr>\n",
       "    <tr>\n",
       "      <th>243</th>\n",
       "      <td>19734371931963</td>\n",
       "      <td>Compton High</td>\n",
       "      <td>50</td>\n",
       "    </tr>\n",
       "  </tbody>\n",
       "</table>\n",
       "</div>"
      ],
      "text/plain": [
       "           cds_code                                               name  \\\n",
       "127  19647330126573  Academy for Multilingual Arts and Science at M...   \n",
       "78   19647330108894  Alliance Judy Ivie Burton Technology Academy High   \n",
       "161  19647331933118                        John C. Fremont Senior High   \n",
       "124  19647330126508  Augustus F. Hawkins High C Responsible Indigen...   \n",
       "58   19647251936947                                   Polytechnic High   \n",
       "240  19734370115725                         Lifeline Education Charter   \n",
       "101  19647330118588      Alain Leroy Locke College Preparatory Academy   \n",
       "84   19647330111492  Alliance Patti And Peter Neuwirth Leadership A...   \n",
       "117  19647330124479                    Dr. Maya Angelou Community High   \n",
       "73   19647330106849                                    Animo Pat Brown   \n",
       "89   19647330111641              Alliance Ouchi-O'Donovan 6-12 Complex   \n",
       "63   19647330100750                              Wallis Annenberg High   \n",
       "110  19647330121285  Alliance Cindy and Bill Simon Technology Acade...   \n",
       "187  19647331939305                 George Washington Preparatory High   \n",
       "243  19734371931963                                       Compton High   \n",
       "\n",
       "     homicide_count  \n",
       "127             105  \n",
       "78               85  \n",
       "161              81  \n",
       "124              72  \n",
       "58               63  \n",
       "240              63  \n",
       "101              62  \n",
       "84               59  \n",
       "117              59  \n",
       "73               55  \n",
       "89               54  \n",
       "63               53  \n",
       "110              51  \n",
       "187              50  \n",
       "243              50  "
      ]
     },
     "execution_count": 43,
     "metadata": {},
     "output_type": "execute_result"
    }
   ],
   "source": [
    "over_50.sort_values('homicide_count', ascending = False)"
   ]
  },
  {
   "cell_type": "markdown",
   "metadata": {},
   "source": [
    "What percentage of total homicides occured around the \"over 50\" schools?"
   ]
  },
  {
   "cell_type": "code",
   "execution_count": 37,
   "metadata": {},
   "outputs": [],
   "source": [
    "over_50_schools_homicides = valid_homicides_near_hs[valid_homicides_near_hs.cds_code.isin(over_50.cds_code.tolist())]"
   ]
  },
  {
   "cell_type": "code",
   "execution_count": 38,
   "metadata": {},
   "outputs": [
    {
     "data": {
      "text/plain": [
       "'20%'"
      ]
     },
     "execution_count": 38,
     "metadata": {},
     "output_type": "execute_result"
    }
   ],
   "source": [
    "\"{0:.0%}\".format(over_50_schools_homicides.ID.nunique()/float(len(homicides)))"
   ]
  },
  {
   "cell_type": "markdown",
   "metadata": {},
   "source": [
    "Write out the school ranking as a shapefile"
   ]
  },
  {
   "cell_type": "code",
   "execution_count": 39,
   "metadata": {},
   "outputs": [],
   "source": [
    "valid_homicides_near_hs[['open_date', 'death_date']] = valid_homicides_near_hs[['open_date', 'death_date']].astype(str)"
   ]
  },
  {
   "cell_type": "code",
   "execution_count": 40,
   "metadata": {
    "scrolled": true
   },
   "outputs": [],
   "source": [
    "valid_homicides_near_hs = gpd.read_file(os.path.join(output_dir, 'homicides-near-hs.shp'))"
   ]
  }
 ],
 "metadata": {
  "kernelspec": {
   "display_name": "Python 2",
   "language": "python",
   "name": "python2"
  },
  "language_info": {
   "codemirror_mode": {
    "name": "ipython",
    "version": 2
   },
   "file_extension": ".py",
   "mimetype": "text/x-python",
   "name": "python",
   "nbconvert_exporter": "python",
   "pygments_lexer": "ipython2",
   "version": "2.7.12"
  }
 },
 "nbformat": 4,
 "nbformat_minor": 2
}
