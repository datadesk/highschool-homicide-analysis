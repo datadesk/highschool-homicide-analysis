{
 "cells": [
  {
   "cell_type": "markdown",
   "metadata": {},
   "source": [
    "# Download NCES schools\n",
    "\n",
    "Pulls down historic lists of schools from a federal database. "
   ]
  },
  {
   "cell_type": "code",
   "execution_count": 1,
   "metadata": {},
   "outputs": [],
   "source": [
    "import os"
   ]
  },
  {
   "cell_type": "code",
   "execution_count": 2,
   "metadata": {},
   "outputs": [],
   "source": [
    "%store -r"
   ]
  },
  {
   "cell_type": "code",
   "execution_count": 3,
   "metadata": {},
   "outputs": [
    {
     "name": "stdout",
     "output_type": "stream",
     "text": [
      "File `/home/iris/Code/highschool-homicide/input/nces_1314.zip' already there; not retrieving.\r\n"
     ]
    }
   ],
   "source": [
    "!wget -O $input_dir/nces_1314.zip -nc https://nces.ed.gov/ccd/Data/zip/sc132a_txt.zip"
   ]
  },
  {
   "cell_type": "code",
   "execution_count": 4,
   "metadata": {},
   "outputs": [
    {
     "name": "stdout",
     "output_type": "stream",
     "text": [
      "File `/home/iris/Code/highschool-homicide/input/nces_1415.zip' already there; not retrieving.\r\n"
     ]
    }
   ],
   "source": [
    "!wget -O $input_dir/nces_1415.zip -nc https://nces.ed.gov/ccd/Data/zip/ccd_sch_029_1415_w_0216601a_txt.zip"
   ]
  },
  {
   "cell_type": "code",
   "execution_count": 5,
   "metadata": {},
   "outputs": [
    {
     "name": "stdout",
     "output_type": "stream",
     "text": [
      "File `/home/iris/Code/highschool-homicide/input/nces_1516.zip' already there; not retrieving.\r\n"
     ]
    }
   ],
   "source": [
    "!wget -O $input_dir/nces_1516.zip -nc https://nces.ed.gov/ccd/Data/zip/ccd_sch_029_1516_w_2a_011717_csv.zip"
   ]
  },
  {
   "cell_type": "code",
   "execution_count": 6,
   "metadata": {},
   "outputs": [
    {
     "name": "stdout",
     "output_type": "stream",
     "text": [
      "File `/home/iris/Code/highschool-homicide/input/nces_1617.zip' already there; not retrieving.\r\n"
     ]
    }
   ],
   "source": [
    "!wget -O $input_dir/nces_1617.zip -nc https://nces.ed.gov/ccd/Data/zip/ccd_sch_029_1617_w_1a_11212017_csv.zip"
   ]
  },
  {
   "cell_type": "code",
   "execution_count": 7,
   "metadata": {},
   "outputs": [
    {
     "name": "stdout",
     "output_type": "stream",
     "text": [
      "Archive:  /home/iris/Code/highschool-homicide/input/nces_1415.zip\n",
      "\n",
      "Archive:  /home/iris/Code/highschool-homicide/input/nces_1314.zip\n",
      "  inflating: /home/iris/Code/highschool-homicide/input/sc132a.txt  \n",
      "\n",
      "Archive:  /home/iris/Code/highschool-homicide/input/nces_1516.zip\n",
      "\n",
      "Archive:  /home/iris/Code/highschool-homicide/input/nces_1617.zip\n",
      "\n",
      "4 archives were successfully processed.\n"
     ]
    }
   ],
   "source": [
    "!unzip -n '$input_dir/nces_*.zip' -d $input_dir/"
   ]
  }
 ],
 "metadata": {
  "kernelspec": {
   "display_name": "Python 2",
   "language": "python",
   "name": "python2"
  },
  "language_info": {
   "codemirror_mode": {
    "name": "ipython",
    "version": 2
   },
   "file_extension": ".py",
   "mimetype": "text/x-python",
   "name": "python",
   "nbconvert_exporter": "python",
   "pygments_lexer": "ipython2",
   "version": "2.7.12"
  }
 },
 "nbformat": 4,
 "nbformat_minor": 2
}
