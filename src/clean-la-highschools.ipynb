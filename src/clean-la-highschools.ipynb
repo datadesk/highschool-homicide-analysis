{
 "cells": [
  {
   "cell_type": "markdown",
   "metadata": {},
   "source": [
    "# Clean LA high schools\n",
    "\n",
    "Removes some imperfections from the state's list of LA high schools."
   ]
  },
  {
   "cell_type": "code",
   "execution_count": 1,
   "metadata": {},
   "outputs": [],
   "source": [
    "import os\n",
    "import pandas as pd"
   ]
  },
  {
   "cell_type": "code",
   "execution_count": 11,
   "metadata": {},
   "outputs": [],
   "source": [
    "import warnings\n",
    "warnings.simplefilter(\"ignore\")"
   ]
  },
  {
   "cell_type": "code",
   "execution_count": 2,
   "metadata": {},
   "outputs": [],
   "source": [
    "%store -r"
   ]
  },
  {
   "cell_type": "markdown",
   "metadata": {},
   "source": [
    "For cleaning up address columns "
   ]
  },
  {
   "cell_type": "code",
   "execution_count": 3,
   "metadata": {},
   "outputs": [],
   "source": [
    "replace = [\n",
    "    ['W.', 'West'],\n",
    "    ['E.', 'East'],\n",
    "    ['S.', 'South'],\n",
    "    ['N.', 'North'],\n",
    "    ['Pkwy', 'Parkway'],\n",
    "    ['Place', 'Pl'],\n",
    "    ['Pla', 'Pl'],\n",
    "    ['Avenue', 'Ave'],\n",
    "    ['Broadway', 'BrdWay'],\n",
    "    ['  ',' '],\n",
    "    [',',''],\n",
    "    ['.','']\n",
    "]\n",
    "\n",
    "def clean_addy(street):\n",
    "    for key, value in replace:\n",
    "        street = street.replace(key, value)\n",
    "    return street"
   ]
  },
  {
   "cell_type": "code",
   "execution_count": 12,
   "metadata": {},
   "outputs": [],
   "source": [
    "def transform(df):\n",
    "    \"\"\"\n",
    "    Cleans and trims current school roster file from CDE.\n",
    "    \"\"\"\n",
    "    # Extract school code from compund CDS code\n",
    "    df['school_code'] = df.CDSCode.apply(lambda x: str(x)[-7:])\n",
    "    \n",
    "    #Trim columns\n",
    "    df=df[['school_code', 'StreetAbr', 'City']]\n",
    "    \n",
    "    #Pretty columns\n",
    "    df.rename(columns={\n",
    "        'StreetAbr':'street',\n",
    "        'City':'city',\n",
    "    }, inplace=True)\n",
    "    \n",
    "    #Everything to title case for matching later\n",
    "    df = df.apply(lambda x: x.astype(str).str.title()) \n",
    "    \n",
    "    #Cleaning up street column for matching later\n",
    "    df['street'] = df['street'].apply(clean_addy)\n",
    "    df['school_code'] = df['school_code'].astype(int)\n",
    "    \n",
    "    return df"
   ]
  },
  {
   "cell_type": "code",
   "execution_count": 13,
   "metadata": {},
   "outputs": [],
   "source": [
    "df = pd.read_csv(os.path.join(output_dir,'la-high-schools.csv'))"
   ]
  },
  {
   "cell_type": "code",
   "execution_count": 14,
   "metadata": {},
   "outputs": [],
   "source": [
    "cleaned_df = transform(df)"
   ]
  },
  {
   "cell_type": "code",
   "execution_count": 16,
   "metadata": {},
   "outputs": [],
   "source": [
    "cleaned_df.to_csv(os.path.join(output_dir, 'cleaned-la-high-schools.csv'), index=False)"
   ]
  }
 ],
 "metadata": {
  "kernelspec": {
   "display_name": "Python 3",
   "language": "python",
   "name": "python3"
  },
  "language_info": {
   "codemirror_mode": {
    "name": "ipython",
    "version": 3
   },
   "file_extension": ".py",
   "mimetype": "text/x-python",
   "name": "python",
   "nbconvert_exporter": "python",
   "pygments_lexer": "ipython3",
   "version": "3.6.4"
  }
 },
 "nbformat": 4,
 "nbformat_minor": 2
}
