{
 "cells": [
  {
   "cell_type": "markdown",
   "metadata": {},
   "source": [
    "# Download LA high schools\n",
    "\n",
    "Pulls down the latest schools files from the California Department of Education and filters it to LA high schools."
   ]
  },
  {
   "cell_type": "code",
   "execution_count": 1,
   "metadata": {},
   "outputs": [],
   "source": [
    "import os\n",
    "import pandas as pd"
   ]
  },
  {
   "cell_type": "code",
   "execution_count": 2,
   "metadata": {},
   "outputs": [],
   "source": [
    "%store -r"
   ]
  },
  {
   "cell_type": "markdown",
   "metadata": {},
   "source": [
    "Download full schools file from the state."
   ]
  },
  {
   "cell_type": "code",
   "execution_count": 3,
   "metadata": {},
   "outputs": [],
   "source": [
    "schools = pd.read_csv('https://www.cde.ca.gov/schooldirectory/report?rid=dl1&tp=txt', delimiter=\"\\t\")"
   ]
  },
  {
   "cell_type": "markdown",
   "metadata": {},
   "source": [
    "Filter to LA high schools"
   ]
  },
  {
   "cell_type": "code",
   "execution_count": 4,
   "metadata": {},
   "outputs": [],
   "source": [
    "la_high_schools = schools[\n",
    "    # Only active schools ...\n",
    "    (schools.StatusType == 'Active') &\n",
    "    \n",
    "    # ... in LA County ...\n",
    "    (schools.County == 'Los Angeles') &\n",
    "    \n",
    "    # ... that are high schools ...\n",
    "    (schools.SOC.isin([\n",
    "        '65',  # K-12 Schools (Public)\n",
    "        '66',  # High Schools (Public)\n",
    "        '67'   # High Schools in 1 School District (Public)\n",
    "    ])) &\n",
    "    \n",
    "    # ... are not alternative schools...\n",
    "    (schools.DOC.isin([\n",
    "        54,  # Unified School District\n",
    "        56   # High School District\n",
    "    ])) &\n",
    "    #... and not virtual.\n",
    "    (schools.Virtual.isin([\n",
    "        'C',  # Primarily Classroom\n",
    "        'N'   # Not Virtual\n",
    "    ]))\n",
    "    \n",
    "]"
   ]
  },
  {
   "cell_type": "markdown",
   "metadata": {},
   "source": [
    "How many are there?"
   ]
  },
  {
   "cell_type": "code",
   "execution_count": 5,
   "metadata": {},
   "outputs": [
    {
     "data": {
      "text/plain": [
       "356"
      ]
     },
     "execution_count": 5,
     "metadata": {},
     "output_type": "execute_result"
    }
   ],
   "source": [
    "la_high_schools.CDSCode.nunique()"
   ]
  },
  {
   "cell_type": "markdown",
   "metadata": {},
   "source": [
    "Output files to comma-delimited format."
   ]
  },
  {
   "cell_type": "code",
   "execution_count": 6,
   "metadata": {},
   "outputs": [],
   "source": [
    "schools.to_csv(os.path.join(input_dir, 'schools.csv'), index=False)"
   ]
  },
  {
   "cell_type": "code",
   "execution_count": 7,
   "metadata": {},
   "outputs": [],
   "source": [
    "la_high_schools.to_csv(os.path.join(output_dir, 'la-high-schools.csv'), index=False)"
   ]
  }
 ],
 "metadata": {
  "kernelspec": {
   "display_name": "Python 2",
   "language": "python",
   "name": "python2"
  },
  "language_info": {
   "codemirror_mode": {
    "name": "ipython",
    "version": 2
   },
   "file_extension": ".py",
   "mimetype": "text/x-python",
   "name": "python",
   "nbconvert_exporter": "python",
   "pygments_lexer": "ipython2",
   "version": "2.7.12"
  }
 },
 "nbformat": 4,
 "nbformat_minor": 2
}
